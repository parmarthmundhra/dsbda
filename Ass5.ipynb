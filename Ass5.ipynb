{
 "cells": [
  {
   "cell_type": "markdown",
   "metadata": {},
   "source": [
    "## Data Analytics 2 Logistic Regression"
   ]
  },
  {
   "cell_type": "markdown",
   "metadata": {},
   "source": [
    "Import required libraries"
   ]
  },
  {
   "cell_type": "code",
   "execution_count": 1,
   "metadata": {},
   "outputs": [],
   "source": [
    "import pandas as pd \n",
    "import numpy as np "
   ]
  },
  {
   "cell_type": "code",
   "execution_count": 2,
   "metadata": {},
   "outputs": [
    {
     "data": {
      "text/html": [
       "<div>\n",
       "<style scoped>\n",
       "    .dataframe tbody tr th:only-of-type {\n",
       "        vertical-align: middle;\n",
       "    }\n",
       "\n",
       "    .dataframe tbody tr th {\n",
       "        vertical-align: top;\n",
       "    }\n",
       "\n",
       "    .dataframe thead th {\n",
       "        text-align: right;\n",
       "    }\n",
       "</style>\n",
       "<table border=\"1\" class=\"dataframe\">\n",
       "  <thead>\n",
       "    <tr style=\"text-align: right;\">\n",
       "      <th></th>\n",
       "      <th>User ID</th>\n",
       "      <th>Gender</th>\n",
       "      <th>Age</th>\n",
       "      <th>EstimatedSalary</th>\n",
       "      <th>Purchased</th>\n",
       "    </tr>\n",
       "  </thead>\n",
       "  <tbody>\n",
       "    <tr>\n",
       "      <th>0</th>\n",
       "      <td>15624510</td>\n",
       "      <td>Male</td>\n",
       "      <td>19</td>\n",
       "      <td>19000</td>\n",
       "      <td>0</td>\n",
       "    </tr>\n",
       "    <tr>\n",
       "      <th>1</th>\n",
       "      <td>15810944</td>\n",
       "      <td>Male</td>\n",
       "      <td>35</td>\n",
       "      <td>20000</td>\n",
       "      <td>0</td>\n",
       "    </tr>\n",
       "    <tr>\n",
       "      <th>2</th>\n",
       "      <td>15668575</td>\n",
       "      <td>Female</td>\n",
       "      <td>26</td>\n",
       "      <td>43000</td>\n",
       "      <td>0</td>\n",
       "    </tr>\n",
       "    <tr>\n",
       "      <th>3</th>\n",
       "      <td>15603246</td>\n",
       "      <td>Female</td>\n",
       "      <td>27</td>\n",
       "      <td>57000</td>\n",
       "      <td>0</td>\n",
       "    </tr>\n",
       "    <tr>\n",
       "      <th>4</th>\n",
       "      <td>15804002</td>\n",
       "      <td>Male</td>\n",
       "      <td>19</td>\n",
       "      <td>76000</td>\n",
       "      <td>0</td>\n",
       "    </tr>\n",
       "    <tr>\n",
       "      <th>...</th>\n",
       "      <td>...</td>\n",
       "      <td>...</td>\n",
       "      <td>...</td>\n",
       "      <td>...</td>\n",
       "      <td>...</td>\n",
       "    </tr>\n",
       "    <tr>\n",
       "      <th>395</th>\n",
       "      <td>15691863</td>\n",
       "      <td>Female</td>\n",
       "      <td>46</td>\n",
       "      <td>41000</td>\n",
       "      <td>1</td>\n",
       "    </tr>\n",
       "    <tr>\n",
       "      <th>396</th>\n",
       "      <td>15706071</td>\n",
       "      <td>Male</td>\n",
       "      <td>51</td>\n",
       "      <td>23000</td>\n",
       "      <td>1</td>\n",
       "    </tr>\n",
       "    <tr>\n",
       "      <th>397</th>\n",
       "      <td>15654296</td>\n",
       "      <td>Female</td>\n",
       "      <td>50</td>\n",
       "      <td>20000</td>\n",
       "      <td>1</td>\n",
       "    </tr>\n",
       "    <tr>\n",
       "      <th>398</th>\n",
       "      <td>15755018</td>\n",
       "      <td>Male</td>\n",
       "      <td>36</td>\n",
       "      <td>33000</td>\n",
       "      <td>0</td>\n",
       "    </tr>\n",
       "    <tr>\n",
       "      <th>399</th>\n",
       "      <td>15594041</td>\n",
       "      <td>Female</td>\n",
       "      <td>49</td>\n",
       "      <td>36000</td>\n",
       "      <td>1</td>\n",
       "    </tr>\n",
       "  </tbody>\n",
       "</table>\n",
       "<p>400 rows × 5 columns</p>\n",
       "</div>"
      ],
      "text/plain": [
       "      User ID  Gender  Age  EstimatedSalary  Purchased\n",
       "0    15624510    Male   19            19000          0\n",
       "1    15810944    Male   35            20000          0\n",
       "2    15668575  Female   26            43000          0\n",
       "3    15603246  Female   27            57000          0\n",
       "4    15804002    Male   19            76000          0\n",
       "..        ...     ...  ...              ...        ...\n",
       "395  15691863  Female   46            41000          1\n",
       "396  15706071    Male   51            23000          1\n",
       "397  15654296  Female   50            20000          1\n",
       "398  15755018    Male   36            33000          0\n",
       "399  15594041  Female   49            36000          1\n",
       "\n",
       "[400 rows x 5 columns]"
      ]
     },
     "execution_count": 2,
     "metadata": {},
     "output_type": "execute_result"
    }
   ],
   "source": [
    "df = pd.read_csv('Social_Network_Ads.csv')\n",
    "df"
   ]
  },
  {
   "cell_type": "code",
   "execution_count": 3,
   "metadata": {},
   "outputs": [
    {
     "data": {
      "text/plain": [
       "Index(['User ID', 'Gender', 'Age', 'EstimatedSalary', 'Purchased'], dtype='object')"
      ]
     },
     "execution_count": 3,
     "metadata": {},
     "output_type": "execute_result"
    }
   ],
   "source": [
    "df.columns"
   ]
  },
  {
   "cell_type": "code",
   "execution_count": 5,
   "metadata": {},
   "outputs": [
    {
     "name": "stdout",
     "output_type": "stream",
     "text": [
      "<class 'pandas.core.frame.DataFrame'>\n",
      "RangeIndex: 400 entries, 0 to 399\n",
      "Data columns (total 5 columns):\n",
      " #   Column           Non-Null Count  Dtype \n",
      "---  ------           --------------  ----- \n",
      " 0   User ID          400 non-null    int64 \n",
      " 1   Gender           400 non-null    object\n",
      " 2   Age              400 non-null    int64 \n",
      " 3   EstimatedSalary  400 non-null    int64 \n",
      " 4   Purchased        400 non-null    int64 \n",
      "dtypes: int64(4), object(1)\n",
      "memory usage: 15.8+ KB\n"
     ]
    }
   ],
   "source": [
    "df.info()"
   ]
  },
  {
   "cell_type": "code",
   "execution_count": 6,
   "metadata": {},
   "outputs": [
    {
     "data": {
      "text/html": [
       "<div>\n",
       "<style scoped>\n",
       "    .dataframe tbody tr th:only-of-type {\n",
       "        vertical-align: middle;\n",
       "    }\n",
       "\n",
       "    .dataframe tbody tr th {\n",
       "        vertical-align: top;\n",
       "    }\n",
       "\n",
       "    .dataframe thead th {\n",
       "        text-align: right;\n",
       "    }\n",
       "</style>\n",
       "<table border=\"1\" class=\"dataframe\">\n",
       "  <thead>\n",
       "    <tr style=\"text-align: right;\">\n",
       "      <th></th>\n",
       "      <th>User ID</th>\n",
       "      <th>Age</th>\n",
       "      <th>EstimatedSalary</th>\n",
       "      <th>Purchased</th>\n",
       "    </tr>\n",
       "  </thead>\n",
       "  <tbody>\n",
       "    <tr>\n",
       "      <th>count</th>\n",
       "      <td>4.000000e+02</td>\n",
       "      <td>400.000000</td>\n",
       "      <td>400.000000</td>\n",
       "      <td>400.000000</td>\n",
       "    </tr>\n",
       "    <tr>\n",
       "      <th>mean</th>\n",
       "      <td>1.569154e+07</td>\n",
       "      <td>37.655000</td>\n",
       "      <td>69742.500000</td>\n",
       "      <td>0.357500</td>\n",
       "    </tr>\n",
       "    <tr>\n",
       "      <th>std</th>\n",
       "      <td>7.165832e+04</td>\n",
       "      <td>10.482877</td>\n",
       "      <td>34096.960282</td>\n",
       "      <td>0.479864</td>\n",
       "    </tr>\n",
       "    <tr>\n",
       "      <th>min</th>\n",
       "      <td>1.556669e+07</td>\n",
       "      <td>18.000000</td>\n",
       "      <td>15000.000000</td>\n",
       "      <td>0.000000</td>\n",
       "    </tr>\n",
       "    <tr>\n",
       "      <th>25%</th>\n",
       "      <td>1.562676e+07</td>\n",
       "      <td>29.750000</td>\n",
       "      <td>43000.000000</td>\n",
       "      <td>0.000000</td>\n",
       "    </tr>\n",
       "    <tr>\n",
       "      <th>50%</th>\n",
       "      <td>1.569434e+07</td>\n",
       "      <td>37.000000</td>\n",
       "      <td>70000.000000</td>\n",
       "      <td>0.000000</td>\n",
       "    </tr>\n",
       "    <tr>\n",
       "      <th>75%</th>\n",
       "      <td>1.575036e+07</td>\n",
       "      <td>46.000000</td>\n",
       "      <td>88000.000000</td>\n",
       "      <td>1.000000</td>\n",
       "    </tr>\n",
       "    <tr>\n",
       "      <th>max</th>\n",
       "      <td>1.581524e+07</td>\n",
       "      <td>60.000000</td>\n",
       "      <td>150000.000000</td>\n",
       "      <td>1.000000</td>\n",
       "    </tr>\n",
       "  </tbody>\n",
       "</table>\n",
       "</div>"
      ],
      "text/plain": [
       "            User ID         Age  EstimatedSalary   Purchased\n",
       "count  4.000000e+02  400.000000       400.000000  400.000000\n",
       "mean   1.569154e+07   37.655000     69742.500000    0.357500\n",
       "std    7.165832e+04   10.482877     34096.960282    0.479864\n",
       "min    1.556669e+07   18.000000     15000.000000    0.000000\n",
       "25%    1.562676e+07   29.750000     43000.000000    0.000000\n",
       "50%    1.569434e+07   37.000000     70000.000000    0.000000\n",
       "75%    1.575036e+07   46.000000     88000.000000    1.000000\n",
       "max    1.581524e+07   60.000000    150000.000000    1.000000"
      ]
     },
     "execution_count": 6,
     "metadata": {},
     "output_type": "execute_result"
    }
   ],
   "source": [
    "df.describe()"
   ]
  },
  {
   "cell_type": "code",
   "execution_count": 7,
   "metadata": {},
   "outputs": [
    {
     "data": {
      "text/plain": [
       "User ID            0\n",
       "Gender             0\n",
       "Age                0\n",
       "EstimatedSalary    0\n",
       "Purchased          0\n",
       "dtype: int64"
      ]
     },
     "execution_count": 7,
     "metadata": {},
     "output_type": "execute_result"
    }
   ],
   "source": [
    "# Check null values\n",
    "df.isna().sum()"
   ]
  },
  {
   "cell_type": "markdown",
   "metadata": {},
   "source": [
    "split dataset into features and output"
   ]
  },
  {
   "cell_type": "code",
   "execution_count": 8,
   "metadata": {},
   "outputs": [],
   "source": [
    "df_y = df['Purchased']"
   ]
  },
  {
   "cell_type": "code",
   "execution_count": 9,
   "metadata": {},
   "outputs": [],
   "source": [
    "df_x = df.drop('Purchased',axis=1)"
   ]
  },
  {
   "cell_type": "code",
   "execution_count": 10,
   "metadata": {},
   "outputs": [
    {
     "name": "stdout",
     "output_type": "stream",
     "text": [
      "count    400.000000\n",
      "mean       0.357500\n",
      "std        0.479864\n",
      "min        0.000000\n",
      "25%        0.000000\n",
      "50%        0.000000\n",
      "75%        1.000000\n",
      "max        1.000000\n",
      "Name: Purchased, dtype: float64\n",
      "\n",
      "            User ID         Age  EstimatedSalary\n",
      "count  4.000000e+02  400.000000       400.000000\n",
      "mean   1.569154e+07   37.655000     69742.500000\n",
      "std    7.165832e+04   10.482877     34096.960282\n",
      "min    1.556669e+07   18.000000     15000.000000\n",
      "25%    1.562676e+07   29.750000     43000.000000\n",
      "50%    1.569434e+07   37.000000     70000.000000\n",
      "75%    1.575036e+07   46.000000     88000.000000\n",
      "max    1.581524e+07   60.000000    150000.000000\n"
     ]
    }
   ],
   "source": [
    "print(df_y.describe(), end = \"\\n\\n\")\n",
    "print(df_x.describe())"
   ]
  },
  {
   "cell_type": "code",
   "execution_count": 11,
   "metadata": {},
   "outputs": [
    {
     "data": {
      "text/plain": [
       "0      0\n",
       "1      0\n",
       "2      0\n",
       "3      0\n",
       "4      0\n",
       "      ..\n",
       "395    1\n",
       "396    1\n",
       "397    1\n",
       "398    0\n",
       "399    1\n",
       "Name: Purchased, Length: 400, dtype: int64"
      ]
     },
     "execution_count": 11,
     "metadata": {},
     "output_type": "execute_result"
    }
   ],
   "source": [
    "df_y"
   ]
  },
  {
   "cell_type": "code",
   "execution_count": 12,
   "metadata": {},
   "outputs": [
    {
     "data": {
      "text/html": [
       "<div>\n",
       "<style scoped>\n",
       "    .dataframe tbody tr th:only-of-type {\n",
       "        vertical-align: middle;\n",
       "    }\n",
       "\n",
       "    .dataframe tbody tr th {\n",
       "        vertical-align: top;\n",
       "    }\n",
       "\n",
       "    .dataframe thead th {\n",
       "        text-align: right;\n",
       "    }\n",
       "</style>\n",
       "<table border=\"1\" class=\"dataframe\">\n",
       "  <thead>\n",
       "    <tr style=\"text-align: right;\">\n",
       "      <th></th>\n",
       "      <th>User ID</th>\n",
       "      <th>Gender</th>\n",
       "      <th>Age</th>\n",
       "      <th>EstimatedSalary</th>\n",
       "    </tr>\n",
       "  </thead>\n",
       "  <tbody>\n",
       "    <tr>\n",
       "      <th>0</th>\n",
       "      <td>15624510</td>\n",
       "      <td>Male</td>\n",
       "      <td>19</td>\n",
       "      <td>19000</td>\n",
       "    </tr>\n",
       "    <tr>\n",
       "      <th>1</th>\n",
       "      <td>15810944</td>\n",
       "      <td>Male</td>\n",
       "      <td>35</td>\n",
       "      <td>20000</td>\n",
       "    </tr>\n",
       "    <tr>\n",
       "      <th>2</th>\n",
       "      <td>15668575</td>\n",
       "      <td>Female</td>\n",
       "      <td>26</td>\n",
       "      <td>43000</td>\n",
       "    </tr>\n",
       "    <tr>\n",
       "      <th>3</th>\n",
       "      <td>15603246</td>\n",
       "      <td>Female</td>\n",
       "      <td>27</td>\n",
       "      <td>57000</td>\n",
       "    </tr>\n",
       "    <tr>\n",
       "      <th>4</th>\n",
       "      <td>15804002</td>\n",
       "      <td>Male</td>\n",
       "      <td>19</td>\n",
       "      <td>76000</td>\n",
       "    </tr>\n",
       "    <tr>\n",
       "      <th>...</th>\n",
       "      <td>...</td>\n",
       "      <td>...</td>\n",
       "      <td>...</td>\n",
       "      <td>...</td>\n",
       "    </tr>\n",
       "    <tr>\n",
       "      <th>395</th>\n",
       "      <td>15691863</td>\n",
       "      <td>Female</td>\n",
       "      <td>46</td>\n",
       "      <td>41000</td>\n",
       "    </tr>\n",
       "    <tr>\n",
       "      <th>396</th>\n",
       "      <td>15706071</td>\n",
       "      <td>Male</td>\n",
       "      <td>51</td>\n",
       "      <td>23000</td>\n",
       "    </tr>\n",
       "    <tr>\n",
       "      <th>397</th>\n",
       "      <td>15654296</td>\n",
       "      <td>Female</td>\n",
       "      <td>50</td>\n",
       "      <td>20000</td>\n",
       "    </tr>\n",
       "    <tr>\n",
       "      <th>398</th>\n",
       "      <td>15755018</td>\n",
       "      <td>Male</td>\n",
       "      <td>36</td>\n",
       "      <td>33000</td>\n",
       "    </tr>\n",
       "    <tr>\n",
       "      <th>399</th>\n",
       "      <td>15594041</td>\n",
       "      <td>Female</td>\n",
       "      <td>49</td>\n",
       "      <td>36000</td>\n",
       "    </tr>\n",
       "  </tbody>\n",
       "</table>\n",
       "<p>400 rows × 4 columns</p>\n",
       "</div>"
      ],
      "text/plain": [
       "      User ID  Gender  Age  EstimatedSalary\n",
       "0    15624510    Male   19            19000\n",
       "1    15810944    Male   35            20000\n",
       "2    15668575  Female   26            43000\n",
       "3    15603246  Female   27            57000\n",
       "4    15804002    Male   19            76000\n",
       "..        ...     ...  ...              ...\n",
       "395  15691863  Female   46            41000\n",
       "396  15706071    Male   51            23000\n",
       "397  15654296  Female   50            20000\n",
       "398  15755018    Male   36            33000\n",
       "399  15594041  Female   49            36000\n",
       "\n",
       "[400 rows x 4 columns]"
      ]
     },
     "execution_count": 12,
     "metadata": {},
     "output_type": "execute_result"
    }
   ],
   "source": [
    "df_x"
   ]
  },
  {
   "cell_type": "markdown",
   "metadata": {},
   "source": [
    "Split into train and test data"
   ]
  },
  {
   "cell_type": "code",
   "execution_count": 13,
   "metadata": {},
   "outputs": [],
   "source": [
    "from sklearn.model_selection import train_test_split\n",
    "\n",
    "x_train, x_test, y_train, y_test = train_test_split(df_x, df_y, test_size = 0.3, random_state = 48)"
   ]
  },
  {
   "cell_type": "code",
   "execution_count": 14,
   "metadata": {},
   "outputs": [
    {
     "name": "stdout",
     "output_type": "stream",
     "text": [
      "      User ID  Gender  Age  EstimatedSalary\n",
      "132  15725660    Male   30            87000\n",
      "372  15629885  Female   39            73000\n",
      "56   15775562  Female   23            48000\n",
      "141  15666141  Female   18            68000\n",
      "333  15587177    Male   40            65000\n",
      "..        ...     ...  ...              ...\n",
      "320  15774872  Female   52           138000\n",
      "347  15768151  Female   54           108000\n",
      "337  15612465    Male   35            79000\n",
      "51   15764195  Female   18            44000\n",
      "0    15624510    Male   19            19000\n",
      "\n",
      "[280 rows x 4 columns] \n",
      "\n",
      "\n",
      "\n",
      "       User ID  Gender  Age  EstimatedSalary\n",
      "150  15679651  Female   26            15000\n",
      "206  15654230  Female   55           130000\n",
      "191  15662067  Female   19            26000\n",
      "243  15769596  Female   56           104000\n",
      "385  15775335    Male   56            60000\n",
      "..        ...     ...  ...              ...\n",
      "110  15665416  Female   39            71000\n",
      "87   15631912  Female   28            85000\n",
      "335  15601550  Female   36            54000\n",
      "259  15815236  Female   45           131000\n",
      "38   15671766  Female   26            72000\n",
      "\n",
      "[120 rows x 4 columns]\n"
     ]
    }
   ],
   "source": [
    "print(x_train,\"\\n\\n\\n\\n\",x_test)"
   ]
  },
  {
   "cell_type": "code",
   "execution_count": 15,
   "metadata": {},
   "outputs": [
    {
     "name": "stdout",
     "output_type": "stream",
     "text": [
      "132    0\n",
      "372    0\n",
      "56     0\n",
      "141    0\n",
      "333    0\n",
      "      ..\n",
      "320    1\n",
      "347    1\n",
      "337    0\n",
      "51     0\n",
      "0      0\n",
      "Name: Purchased, Length: 280, dtype: int64 \n",
      "\n",
      "\n",
      "\n",
      " 150    0\n",
      "206    1\n",
      "191    0\n",
      "243    1\n",
      "385    1\n",
      "      ..\n",
      "110    0\n",
      "87     0\n",
      "335    0\n",
      "259    1\n",
      "38     0\n",
      "Name: Purchased, Length: 120, dtype: int64\n"
     ]
    }
   ],
   "source": [
    "print(y_train,\"\\n\\n\\n\\n\",y_test)"
   ]
  },
  {
   "cell_type": "code",
   "execution_count": 17,
   "metadata": {},
   "outputs": [
    {
     "data": {
      "text/plain": [
       "(280, 4)"
      ]
     },
     "execution_count": 17,
     "metadata": {},
     "output_type": "execute_result"
    }
   ],
   "source": [
    "x_train.shape"
   ]
  },
  {
   "cell_type": "code",
   "execution_count": 18,
   "metadata": {},
   "outputs": [
    {
     "data": {
      "text/plain": [
       "(120, 4)"
      ]
     },
     "execution_count": 18,
     "metadata": {},
     "output_type": "execute_result"
    }
   ],
   "source": [
    "x_test.shape"
   ]
  },
  {
   "cell_type": "code",
   "execution_count": 19,
   "metadata": {},
   "outputs": [
    {
     "data": {
      "text/plain": [
       "(120,)"
      ]
     },
     "execution_count": 19,
     "metadata": {},
     "output_type": "execute_result"
    }
   ],
   "source": [
    "y_test.shape"
   ]
  },
  {
   "cell_type": "code",
   "execution_count": 20,
   "metadata": {},
   "outputs": [
    {
     "data": {
      "text/plain": [
       "(280,)"
      ]
     },
     "execution_count": 20,
     "metadata": {},
     "output_type": "execute_result"
    }
   ],
   "source": [
    "y_train.shape"
   ]
  },
  {
   "cell_type": "markdown",
   "metadata": {},
   "source": [
    "Converting categorical data to numeric data"
   ]
  },
  {
   "cell_type": "code",
   "execution_count": 26,
   "metadata": {},
   "outputs": [
    {
     "data": {
      "text/plain": [
       "132    1\n",
       "372    0\n",
       "56     0\n",
       "141    0\n",
       "333    1\n",
       "      ..\n",
       "320    0\n",
       "347    0\n",
       "337    1\n",
       "51     0\n",
       "0      1\n",
       "Name: Male, Length: 280, dtype: uint8"
      ]
     },
     "execution_count": 26,
     "metadata": {},
     "output_type": "execute_result"
    }
   ],
   "source": [
    "gender = pd.get_dummies(x_train['Gender'])\n",
    "gender['Male']"
   ]
  },
  {
   "cell_type": "code",
   "execution_count": 27,
   "metadata": {},
   "outputs": [
    {
     "name": "stderr",
     "output_type": "stream",
     "text": [
      "<ipython-input-27-b59b70abb293>:1: SettingWithCopyWarning: \n",
      "A value is trying to be set on a copy of a slice from a DataFrame.\n",
      "Try using .loc[row_indexer,col_indexer] = value instead\n",
      "\n",
      "See the caveats in the documentation: https://pandas.pydata.org/pandas-docs/stable/user_guide/indexing.html#returning-a-view-versus-a-copy\n",
      "  x_train['Gender'] = gender['Male']\n"
     ]
    }
   ],
   "source": [
    "x_train['Gender'] = gender['Male']"
   ]
  },
  {
   "cell_type": "code",
   "execution_count": 28,
   "metadata": {},
   "outputs": [
    {
     "data": {
      "text/html": [
       "<div>\n",
       "<style scoped>\n",
       "    .dataframe tbody tr th:only-of-type {\n",
       "        vertical-align: middle;\n",
       "    }\n",
       "\n",
       "    .dataframe tbody tr th {\n",
       "        vertical-align: top;\n",
       "    }\n",
       "\n",
       "    .dataframe thead th {\n",
       "        text-align: right;\n",
       "    }\n",
       "</style>\n",
       "<table border=\"1\" class=\"dataframe\">\n",
       "  <thead>\n",
       "    <tr style=\"text-align: right;\">\n",
       "      <th></th>\n",
       "      <th>User ID</th>\n",
       "      <th>Gender</th>\n",
       "      <th>Age</th>\n",
       "      <th>EstimatedSalary</th>\n",
       "    </tr>\n",
       "  </thead>\n",
       "  <tbody>\n",
       "    <tr>\n",
       "      <th>132</th>\n",
       "      <td>15725660</td>\n",
       "      <td>1</td>\n",
       "      <td>30</td>\n",
       "      <td>87000</td>\n",
       "    </tr>\n",
       "    <tr>\n",
       "      <th>372</th>\n",
       "      <td>15629885</td>\n",
       "      <td>0</td>\n",
       "      <td>39</td>\n",
       "      <td>73000</td>\n",
       "    </tr>\n",
       "    <tr>\n",
       "      <th>56</th>\n",
       "      <td>15775562</td>\n",
       "      <td>0</td>\n",
       "      <td>23</td>\n",
       "      <td>48000</td>\n",
       "    </tr>\n",
       "    <tr>\n",
       "      <th>141</th>\n",
       "      <td>15666141</td>\n",
       "      <td>0</td>\n",
       "      <td>18</td>\n",
       "      <td>68000</td>\n",
       "    </tr>\n",
       "    <tr>\n",
       "      <th>333</th>\n",
       "      <td>15587177</td>\n",
       "      <td>1</td>\n",
       "      <td>40</td>\n",
       "      <td>65000</td>\n",
       "    </tr>\n",
       "    <tr>\n",
       "      <th>...</th>\n",
       "      <td>...</td>\n",
       "      <td>...</td>\n",
       "      <td>...</td>\n",
       "      <td>...</td>\n",
       "    </tr>\n",
       "    <tr>\n",
       "      <th>320</th>\n",
       "      <td>15774872</td>\n",
       "      <td>0</td>\n",
       "      <td>52</td>\n",
       "      <td>138000</td>\n",
       "    </tr>\n",
       "    <tr>\n",
       "      <th>347</th>\n",
       "      <td>15768151</td>\n",
       "      <td>0</td>\n",
       "      <td>54</td>\n",
       "      <td>108000</td>\n",
       "    </tr>\n",
       "    <tr>\n",
       "      <th>337</th>\n",
       "      <td>15612465</td>\n",
       "      <td>1</td>\n",
       "      <td>35</td>\n",
       "      <td>79000</td>\n",
       "    </tr>\n",
       "    <tr>\n",
       "      <th>51</th>\n",
       "      <td>15764195</td>\n",
       "      <td>0</td>\n",
       "      <td>18</td>\n",
       "      <td>44000</td>\n",
       "    </tr>\n",
       "    <tr>\n",
       "      <th>0</th>\n",
       "      <td>15624510</td>\n",
       "      <td>1</td>\n",
       "      <td>19</td>\n",
       "      <td>19000</td>\n",
       "    </tr>\n",
       "  </tbody>\n",
       "</table>\n",
       "<p>280 rows × 4 columns</p>\n",
       "</div>"
      ],
      "text/plain": [
       "      User ID  Gender  Age  EstimatedSalary\n",
       "132  15725660       1   30            87000\n",
       "372  15629885       0   39            73000\n",
       "56   15775562       0   23            48000\n",
       "141  15666141       0   18            68000\n",
       "333  15587177       1   40            65000\n",
       "..        ...     ...  ...              ...\n",
       "320  15774872       0   52           138000\n",
       "347  15768151       0   54           108000\n",
       "337  15612465       1   35            79000\n",
       "51   15764195       0   18            44000\n",
       "0    15624510       1   19            19000\n",
       "\n",
       "[280 rows x 4 columns]"
      ]
     },
     "execution_count": 28,
     "metadata": {},
     "output_type": "execute_result"
    }
   ],
   "source": [
    "x_train"
   ]
  },
  {
   "cell_type": "code",
   "execution_count": 29,
   "metadata": {},
   "outputs": [
    {
     "name": "stderr",
     "output_type": "stream",
     "text": [
      "<ipython-input-29-75d9be58ea18>:2: SettingWithCopyWarning: \n",
      "A value is trying to be set on a copy of a slice from a DataFrame.\n",
      "Try using .loc[row_indexer,col_indexer] = value instead\n",
      "\n",
      "See the caveats in the documentation: https://pandas.pydata.org/pandas-docs/stable/user_guide/indexing.html#returning-a-view-versus-a-copy\n",
      "  x_test['Gender'] = gender['Male']\n"
     ]
    }
   ],
   "source": [
    "gender = pd.get_dummies(x_test['Gender'])\n",
    "x_test['Gender'] = gender['Male']"
   ]
  },
  {
   "cell_type": "code",
   "execution_count": 30,
   "metadata": {},
   "outputs": [
    {
     "data": {
      "text/html": [
       "<div>\n",
       "<style scoped>\n",
       "    .dataframe tbody tr th:only-of-type {\n",
       "        vertical-align: middle;\n",
       "    }\n",
       "\n",
       "    .dataframe tbody tr th {\n",
       "        vertical-align: top;\n",
       "    }\n",
       "\n",
       "    .dataframe thead th {\n",
       "        text-align: right;\n",
       "    }\n",
       "</style>\n",
       "<table border=\"1\" class=\"dataframe\">\n",
       "  <thead>\n",
       "    <tr style=\"text-align: right;\">\n",
       "      <th></th>\n",
       "      <th>User ID</th>\n",
       "      <th>Gender</th>\n",
       "      <th>Age</th>\n",
       "      <th>EstimatedSalary</th>\n",
       "    </tr>\n",
       "  </thead>\n",
       "  <tbody>\n",
       "    <tr>\n",
       "      <th>150</th>\n",
       "      <td>15679651</td>\n",
       "      <td>0</td>\n",
       "      <td>26</td>\n",
       "      <td>15000</td>\n",
       "    </tr>\n",
       "    <tr>\n",
       "      <th>206</th>\n",
       "      <td>15654230</td>\n",
       "      <td>0</td>\n",
       "      <td>55</td>\n",
       "      <td>130000</td>\n",
       "    </tr>\n",
       "    <tr>\n",
       "      <th>191</th>\n",
       "      <td>15662067</td>\n",
       "      <td>0</td>\n",
       "      <td>19</td>\n",
       "      <td>26000</td>\n",
       "    </tr>\n",
       "    <tr>\n",
       "      <th>243</th>\n",
       "      <td>15769596</td>\n",
       "      <td>0</td>\n",
       "      <td>56</td>\n",
       "      <td>104000</td>\n",
       "    </tr>\n",
       "    <tr>\n",
       "      <th>385</th>\n",
       "      <td>15775335</td>\n",
       "      <td>1</td>\n",
       "      <td>56</td>\n",
       "      <td>60000</td>\n",
       "    </tr>\n",
       "    <tr>\n",
       "      <th>...</th>\n",
       "      <td>...</td>\n",
       "      <td>...</td>\n",
       "      <td>...</td>\n",
       "      <td>...</td>\n",
       "    </tr>\n",
       "    <tr>\n",
       "      <th>110</th>\n",
       "      <td>15665416</td>\n",
       "      <td>0</td>\n",
       "      <td>39</td>\n",
       "      <td>71000</td>\n",
       "    </tr>\n",
       "    <tr>\n",
       "      <th>87</th>\n",
       "      <td>15631912</td>\n",
       "      <td>0</td>\n",
       "      <td>28</td>\n",
       "      <td>85000</td>\n",
       "    </tr>\n",
       "    <tr>\n",
       "      <th>335</th>\n",
       "      <td>15601550</td>\n",
       "      <td>0</td>\n",
       "      <td>36</td>\n",
       "      <td>54000</td>\n",
       "    </tr>\n",
       "    <tr>\n",
       "      <th>259</th>\n",
       "      <td>15815236</td>\n",
       "      <td>0</td>\n",
       "      <td>45</td>\n",
       "      <td>131000</td>\n",
       "    </tr>\n",
       "    <tr>\n",
       "      <th>38</th>\n",
       "      <td>15671766</td>\n",
       "      <td>0</td>\n",
       "      <td>26</td>\n",
       "      <td>72000</td>\n",
       "    </tr>\n",
       "  </tbody>\n",
       "</table>\n",
       "<p>120 rows × 4 columns</p>\n",
       "</div>"
      ],
      "text/plain": [
       "      User ID  Gender  Age  EstimatedSalary\n",
       "150  15679651       0   26            15000\n",
       "206  15654230       0   55           130000\n",
       "191  15662067       0   19            26000\n",
       "243  15769596       0   56           104000\n",
       "385  15775335       1   56            60000\n",
       "..        ...     ...  ...              ...\n",
       "110  15665416       0   39            71000\n",
       "87   15631912       0   28            85000\n",
       "335  15601550       0   36            54000\n",
       "259  15815236       0   45           131000\n",
       "38   15671766       0   26            72000\n",
       "\n",
       "[120 rows x 4 columns]"
      ]
     },
     "execution_count": 30,
     "metadata": {},
     "output_type": "execute_result"
    }
   ],
   "source": [
    "x_test"
   ]
  },
  {
   "cell_type": "markdown",
   "metadata": {},
   "source": [
    "Standardizing the data"
   ]
  },
  {
   "cell_type": "code",
   "execution_count": 31,
   "metadata": {},
   "outputs": [],
   "source": [
    "from sklearn.preprocessing import StandardScaler\n",
    "sc = StandardScaler()\n",
    "x_train = sc.fit_transform(x_train)\n",
    "x_test = sc.fit_transform(x_test)"
   ]
  },
  {
   "cell_type": "code",
   "execution_count": 32,
   "metadata": {},
   "outputs": [
    {
     "data": {
      "text/plain": [
       "array([[ 0.45961027,  1.        , -0.717493  ,  0.53779252],\n",
       "       [-0.86967632, -1.        ,  0.13097362,  0.12312952],\n",
       "       [ 1.15221335, -1.        , -1.37741149, -0.61734011],\n",
       "       ...,\n",
       "       [-1.11145312,  1.        , -0.24612266,  0.30084223],\n",
       "       [ 0.99444774, -1.        , -1.84878183, -0.73581525],\n",
       "       [-0.94427737,  1.        , -1.75450776, -1.47628489]])"
      ]
     },
     "execution_count": 32,
     "metadata": {},
     "output_type": "execute_result"
    }
   ],
   "source": [
    "x_train"
   ]
  },
  {
   "cell_type": "code",
   "execution_count": 33,
   "metadata": {},
   "outputs": [
    {
     "data": {
      "text/plain": [
       "array([[-0.13559682, -0.93541435, -1.15952191, -1.64115117],\n",
       "       [-0.49680755, -0.93541435,  1.70024863,  1.6791664 ],\n",
       "       [-0.38545046, -0.93541435, -1.84981135, -1.32355558],\n",
       "       [ 1.1424449 , -0.93541435,  1.79886141,  0.92848591],\n",
       "       [ 1.2239912 ,  1.06904497,  1.79886141, -0.34189647],\n",
       "       [ 1.49859717, -0.93541435, -1.15952191,  1.33269848],\n",
       "       [ 1.38964143, -0.93541435, -0.86368357,  0.32216705],\n",
       "       [-1.12998135, -0.93541435,  2.09469974,  0.46652868],\n",
       "       [-1.44613487, -0.93541435,  0.41828253,  0.52427333],\n",
       "       [ 0.79413608,  1.06904497, -1.15952191,  0.23555007],\n",
       "       [ 0.07238246, -0.93541435, -0.56784524,  1.30382616],\n",
       "       [ 0.91886397, -0.93541435,  1.10857197,  1.996762  ],\n",
       "       [ 1.73327544, -0.93541435, -0.27200691,  0.14893309],\n",
       "       [-0.84480377, -0.93541435,  0.91134642, -0.60174741],\n",
       "       [ 0.05783229,  1.06904497,  0.02383142, -0.60174741],\n",
       "       [-0.2213064 ,  1.06904497, -1.25813468,  0.43765635],\n",
       "       [ 1.19716433,  1.06904497, -0.07478136, -0.4862581 ],\n",
       "       [ 0.64108936,  1.06904497,  0.02383142, -0.02430088],\n",
       "       [-0.74975878, -0.93541435, -0.7650708 ,  1.27495383],\n",
       "       [ 0.26201774,  1.06904497,  1.10857197, -1.26581093],\n",
       "       [ 0.50675608,  1.06904497, -1.06090913,  0.52427333],\n",
       "       [-1.61908861, -0.93541435,  1.00995919,  1.70803873],\n",
       "       [ 1.49279984, -0.93541435, -0.27200691,  2.16999596],\n",
       "       [ 1.59217861,  1.06904497, -0.46923246, -1.17919395],\n",
       "       [ 1.55540534, -0.93541435, -0.7650708 , -0.28415182],\n",
       "       [-1.61273712,  1.06904497, -0.27200691,  0.03344378],\n",
       "       [ 0.08078007,  1.06904497, -0.07478136,  2.08337898],\n",
       "       [-1.05669057, -0.93541435, -0.27200691, -0.02430088],\n",
       "       [-0.35885094, -0.93541435, -0.66645802,  1.33269848],\n",
       "       [ 0.27045797,  1.06904497, -0.27200691, -1.43904489],\n",
       "       [-0.29567707,  1.06904497,  0.1224442 , -0.86159835],\n",
       "       [ 1.28663933,  1.06904497,  0.02383142, -0.02430088],\n",
       "       [ 0.28819098,  1.06904497, -1.75119857, -0.65949206],\n",
       "       [ 0.34484285,  1.06904497,  0.31966975,  0.00457145],\n",
       "       [-1.60527731,  1.06904497,  0.31966975, -0.77498137],\n",
       "       [ 0.28769366, -0.93541435, -0.27200691, -0.8038537 ],\n",
       "       [ 1.22761453, -0.93541435,  1.89747419,  1.44818779],\n",
       "       [ 1.11523439, -0.93541435, -0.27200691,  0.00457145],\n",
       "       [-0.15620009,  1.06904497,  1.00995919,  0.06231611],\n",
       "       [ 0.27000328,  1.06904497,  1.10857197,  0.06231611],\n",
       "       [-1.5333364 ,  1.06904497, -0.07478136,  0.06231611],\n",
       "       [ 0.14813142,  1.06904497, -0.17339413,  0.78412427],\n",
       "       [ 0.03792528, -0.93541435,  0.81273364, -0.89047068],\n",
       "       [ 0.66334088,  1.06904497,  1.4044103 ,  2.25661294],\n",
       "       [-0.72737938, -0.93541435, -0.27200691, -0.63061974],\n",
       "       [ 0.50027671, -0.93541435, -1.75119857,  0.29329472],\n",
       "       [-0.98811722,  1.06904497,  0.02383142, -0.31302414],\n",
       "       [-0.6124558 , -0.93541435,  0.81273364, -1.15032162],\n",
       "       [-0.34509649,  1.06904497,  1.99608696,  2.08337898],\n",
       "       [ 0.50218074, -0.93541435,  1.00995919,  0.69750729],\n",
       "       [-1.68040107,  1.06904497, -0.37061969,  1.2460815 ],\n",
       "       [ 1.06888415, -0.93541435, -1.06090913, -1.58340652],\n",
       "       [-1.06247369, -0.93541435, -1.45536024, -1.26581093],\n",
       "       [ 0.86876252, -0.93541435, -0.07478136, -0.42851345],\n",
       "       [-0.9961596 , -0.93541435, -0.17339413, -0.63061974],\n",
       "       [-0.7137386 , -0.93541435, -1.65258579, -0.11091786],\n",
       "       [ 1.46223596, -0.93541435, -1.15952191,  0.35103937],\n",
       "       [-0.52281029, -0.93541435,  0.02383142, -0.63061974],\n",
       "       [-1.21135713, -0.93541435,  1.30579752,  1.79465571],\n",
       "       [-1.13043604, -0.93541435,  0.31966975,  0.00457145],\n",
       "       [-1.37294355,  1.06904497,  0.91134642, -1.41017256],\n",
       "       [ 1.1467929 ,  1.06904497,  0.41828253, -0.19753484],\n",
       "       [-1.33649709, -0.93541435, -1.45536024, -0.16866251],\n",
       "       [ 0.86479817, -0.93541435,  1.4044103 ,  0.52427333],\n",
       "       [-1.25919933,  1.06904497, -1.25813468, -1.12144929],\n",
       "       [ 0.11694235, -0.93541435,  0.81273364, -1.43904489],\n",
       "       [ 1.68683995,  1.06904497, -1.84981135,  0.3799117 ],\n",
       "       [ 1.47240971,  1.06904497,  1.10857197, -1.26581093],\n",
       "       [ 0.03714378, -0.93541435,  0.22105698,  0.00457145],\n",
       "       [ 0.23980884,  1.06904497,  1.30579752, -1.41017256],\n",
       "       [-1.57988557,  1.06904497, -1.45536024, -0.25527949],\n",
       "       [-0.79092268, -0.93541435,  0.91134642, -1.20806627],\n",
       "       [-1.11389659,  1.06904497,  0.41828253, -0.19753484],\n",
       "       [-1.63785889,  1.06904497,  0.22105698, -0.02430088],\n",
       "       [ 0.22440612,  1.06904497, -0.56784524, -1.55453419],\n",
       "       [ 1.10000218, -0.93541435,  0.91134642, -0.71723672],\n",
       "       [-1.3417971 , -0.93541435,  0.1224442 ,  0.09118843],\n",
       "       [-1.45214534, -0.93541435,  0.31966975,  0.00457145],\n",
       "       [ 0.8516405 , -0.93541435,  0.31966975, -1.20806627],\n",
       "       [-0.65801032,  1.06904497, -1.55397301, -1.55453419],\n",
       "       [ 1.49621003,  1.06904497,  0.22105698, -0.42851345],\n",
       "       [ 1.27365216, -0.93541435,  1.50302308, -1.09257696],\n",
       "       [ 0.58618522,  1.06904497, -1.35674746,  0.35103937],\n",
       "       [-1.31339302,  1.06904497, -0.17339413,  1.53480477],\n",
       "       [ 1.18794259,  1.06904497, -0.27200691,  1.04397521],\n",
       "       [ 0.22619648,  1.06904497,  0.81273364, -1.41017256],\n",
       "       [ 0.52005585, -0.93541435, -0.17339413, -0.25527949],\n",
       "       [ 1.21559359,  1.06904497,  2.19331252,  0.32216705],\n",
       "       [ 0.81763801,  1.06904497, -1.94842412, -0.57287508],\n",
       "       [ 0.37436946, -0.93541435, -0.96229635,  0.35103937],\n",
       "       [-0.56162968,  1.06904497,  0.31966975,  0.20667774],\n",
       "       [ 0.49669601, -0.93541435,  1.10857197, -0.94821533],\n",
       "       [-0.18819909, -0.93541435, -0.46923246,  2.22774061],\n",
       "       [-0.05140763,  1.06904497, -1.15952191, -1.61227885],\n",
       "       [-0.70927692,  1.06904497, -1.45536024, -1.49678954],\n",
       "       [ 0.00791556,  1.06904497, -0.96229635,  0.49540101],\n",
       "       [ 0.46380183,  1.06904497,  0.02383142, -0.31302414],\n",
       "       [-0.2326453 , -0.93541435,  1.70024863,  1.53480477],\n",
       "       [-1.38225054, -0.93541435, -0.46923246, -0.60174741],\n",
       "       [ 0.2840277 ,  1.06904497,  0.41828253, -0.51513043],\n",
       "       [ 1.50659692, -0.93541435, -0.17339413,  1.5636771 ],\n",
       "       [ 0.66831408,  1.06904497,  0.02383142, -0.3707688 ],\n",
       "       [ 0.82198601,  1.06904497,  0.81273364,  1.30382616],\n",
       "       [ 0.11907372, -0.93541435, -0.46923246, -0.08204553],\n",
       "       [ 1.00160384, -0.93541435,  1.20718475, -1.03483231],\n",
       "       [-0.29398619, -0.93541435, -1.75119857,  0.29329472],\n",
       "       [ 0.46034901,  1.06904497,  0.22105698,  0.09118843],\n",
       "       [-0.05467573,  1.06904497,  1.79886141,  1.76578338],\n",
       "       [-1.67859651, -0.93541435, -0.46923246, -0.89047068],\n",
       "       [ 1.12393038, -0.93541435,  0.41828253,  0.20667774],\n",
       "       [ 0.45203666, -0.93541435,  0.41828253,  0.23555007],\n",
       "       [-1.55466433, -0.93541435, -0.86368357, -0.71723672],\n",
       "       [-1.50697844,  1.06904497,  0.22105698, -0.31302414],\n",
       "       [-1.36663469,  1.06904497, -0.96229635, -0.3707688 ],\n",
       "       [-1.4172903 ,  1.06904497,  0.1224442 ,  0.98623056],\n",
       "       [-0.33786403, -0.93541435,  0.1224442 , -0.02430088],\n",
       "       [-0.81392729, -0.93541435, -0.96229635,  0.3799117 ],\n",
       "       [-1.24534541, -0.93541435, -0.17339413, -0.51513043],\n",
       "       [ 1.79095037, -0.93541435,  0.71412086,  1.70803873],\n",
       "       [-0.24763595, -0.93541435, -1.15952191,  0.00457145]])"
      ]
     },
     "execution_count": 33,
     "metadata": {},
     "output_type": "execute_result"
    }
   ],
   "source": [
    "x_test"
   ]
  },
  {
   "cell_type": "markdown",
   "metadata": {},
   "source": [
    "INITIALIZING MODEL"
   ]
  },
  {
   "cell_type": "code",
   "execution_count": 34,
   "metadata": {},
   "outputs": [],
   "source": [
    "from sklearn.linear_model import LogisticRegression\n",
    "\n",
    "logistic = LogisticRegression(random_state = 0)\n"
   ]
  },
  {
   "cell_type": "code",
   "execution_count": 35,
   "metadata": {},
   "outputs": [
    {
     "data": {
      "text/plain": [
       "LogisticRegression(random_state=0)"
      ]
     },
     "execution_count": 35,
     "metadata": {},
     "output_type": "execute_result"
    }
   ],
   "source": [
    "logistic.fit(x_train, y_train)"
   ]
  },
  {
   "cell_type": "code",
   "execution_count": 36,
   "metadata": {},
   "outputs": [],
   "source": [
    "y_pred = logistic.predict(x_test)"
   ]
  },
  {
   "cell_type": "code",
   "execution_count": 37,
   "metadata": {},
   "outputs": [
    {
     "data": {
      "text/plain": [
       "array([0, 1, 0, 1, 1, 0, 0, 1, 1, 0, 0, 1, 0, 0, 0, 0, 0, 0, 0, 1, 0, 1,\n",
       "       1, 0, 0, 0, 1, 0, 0, 0, 0, 0, 0, 0, 0, 0, 1, 0, 1, 1, 0, 0, 0, 1,\n",
       "       0, 0, 0, 0, 1, 1, 0, 0, 0, 0, 0, 0, 0, 0, 1, 0, 0, 0, 0, 1, 0, 0,\n",
       "       0, 1, 0, 1, 0, 0, 0, 0, 0, 0, 0, 0, 0, 0, 0, 1, 0, 1, 0, 0, 0, 1,\n",
       "       0, 0, 1, 0, 1, 0, 0, 0, 0, 1, 0, 0, 1, 0, 1, 0, 1, 0, 0, 1, 0, 0,\n",
       "       0, 0, 0, 0, 1, 0, 0, 0, 1, 0], dtype=int64)"
      ]
     },
     "execution_count": 37,
     "metadata": {},
     "output_type": "execute_result"
    }
   ],
   "source": [
    "y_pred"
   ]
  },
  {
   "cell_type": "code",
   "execution_count": 38,
   "metadata": {},
   "outputs": [
    {
     "data": {
      "text/plain": [
       "150    0\n",
       "206    1\n",
       "191    0\n",
       "243    1\n",
       "385    1\n",
       "      ..\n",
       "110    0\n",
       "87     0\n",
       "335    0\n",
       "259    1\n",
       "38     0\n",
       "Name: Purchased, Length: 120, dtype: int64"
      ]
     },
     "execution_count": 38,
     "metadata": {},
     "output_type": "execute_result"
    }
   ],
   "source": [
    "y_test"
   ]
  },
  {
   "cell_type": "code",
   "execution_count": 39,
   "metadata": {},
   "outputs": [],
   "source": [
    "from sklearn.metrics import confusion_matrix\n",
    "cm = confusion_matrix(y_test,y_pred)"
   ]
  },
  {
   "cell_type": "code",
   "execution_count": 40,
   "metadata": {},
   "outputs": [
    {
     "data": {
      "text/plain": [
       "array([[75,  3],\n",
       "       [13, 29]], dtype=int64)"
      ]
     },
     "execution_count": 40,
     "metadata": {},
     "output_type": "execute_result"
    }
   ],
   "source": [
    "cm"
   ]
  },
  {
   "cell_type": "code",
   "execution_count": 41,
   "metadata": {},
   "outputs": [],
   "source": [
    "# accuracy score\n",
    "from sklearn.metrics import accuracy_score\n",
    "score = accuracy_score(y_test,y_pred)"
   ]
  },
  {
   "cell_type": "code",
   "execution_count": 42,
   "metadata": {},
   "outputs": [
    {
     "data": {
      "text/plain": [
       "0.8666666666666667"
      ]
     },
     "execution_count": 42,
     "metadata": {},
     "output_type": "execute_result"
    }
   ],
   "source": [
    "score"
   ]
  },
  {
   "cell_type": "code",
   "execution_count": 43,
   "metadata": {},
   "outputs": [
    {
     "data": {
      "text/plain": [
       "0.8666666666666667"
      ]
     },
     "execution_count": 43,
     "metadata": {},
     "output_type": "execute_result"
    }
   ],
   "source": [
    "(75 + 29)/(75 + 3 +13+29)"
   ]
  },
  {
   "cell_type": "code",
   "execution_count": 45,
   "metadata": {},
   "outputs": [
    {
     "data": {
      "text/plain": [
       "array([75], dtype=int64)"
      ]
     },
     "execution_count": 45,
     "metadata": {},
     "output_type": "execute_result"
    }
   ],
   "source": [
    "# true positive\n",
    "tp = cm[0,[0]]\n",
    "tp"
   ]
  },
  {
   "cell_type": "code",
   "execution_count": 50,
   "metadata": {},
   "outputs": [
    {
     "data": {
      "text/plain": [
       "array([29], dtype=int64)"
      ]
     },
     "execution_count": 50,
     "metadata": {},
     "output_type": "execute_result"
    }
   ],
   "source": [
    "tn = cm[1,[1]]\n",
    "tn"
   ]
  },
  {
   "cell_type": "code",
   "execution_count": 52,
   "metadata": {},
   "outputs": [
    {
     "data": {
      "text/plain": [
       "array([3], dtype=int64)"
      ]
     },
     "execution_count": 52,
     "metadata": {},
     "output_type": "execute_result"
    }
   ],
   "source": [
    "fp = cm[0,[0]]\n",
    "fp"
   ]
  },
  {
   "cell_type": "code",
   "execution_count": 53,
   "metadata": {},
   "outputs": [
    {
     "data": {
      "text/plain": [
       "array([13], dtype=int64)"
      ]
     },
     "execution_count": 53,
     "metadata": {},
     "output_type": "execute_result"
    }
   ],
   "source": [
    "fn = cm[1,[0]]\n",
    "fn"
   ]
  },
  {
   "cell_type": "code",
   "execution_count": 54,
   "metadata": {},
   "outputs": [
    {
     "name": "stdout",
     "output_type": "stream",
     "text": [
      "Accuracy :  [86.66666667]\n"
     ]
    }
   ],
   "source": [
    "accuracy_cm = ((tp + tn)/(tp + fp + fn + tn))\n",
    "print('Accuracy : ',accuracy_cm*100)"
   ]
  },
  {
   "cell_type": "code",
   "execution_count": 55,
   "metadata": {},
   "outputs": [
    {
     "name": "stdout",
     "output_type": "stream",
     "text": [
      "Error Rate :  [13.33333333]\n"
     ]
    }
   ],
   "source": [
    "error_rate_cm = ((fp + fn)/(tp + fp + fn + tn))\n",
    "print('Error Rate : ', error_rate_cm*100)"
   ]
  },
  {
   "cell_type": "code",
   "execution_count": 56,
   "metadata": {},
   "outputs": [
    {
     "name": "stdout",
     "output_type": "stream",
     "text": [
      "Precision :  [96.15384615]\n"
     ]
    }
   ],
   "source": [
    "precision_cm = (tp / (tp + fp))\n",
    "print('Precision : ',precision_cm*100)"
   ]
  },
  {
   "cell_type": "code",
   "execution_count": 57,
   "metadata": {},
   "outputs": [
    {
     "name": "stdout",
     "output_type": "stream",
     "text": [
      "Sensitivity :  [85.22727273]\n"
     ]
    }
   ],
   "source": [
    "#recall is also called sensitivity\n",
    "recall_cm = (tp / (tp + fn))\n",
    "print('Sensitivity : ', recall_cm*100)"
   ]
  },
  {
   "cell_type": "code",
   "execution_count": 58,
   "metadata": {},
   "outputs": [
    {
     "name": "stdout",
     "output_type": "stream",
     "text": [
      "Specificity :  [90.625]\n"
     ]
    }
   ],
   "source": [
    "specificity_cm = (tn / (tn + fp))\n",
    "print('Specificity : ', specificity_cm*100)"
   ]
  },
  {
   "cell_type": "code",
   "execution_count": 59,
   "metadata": {},
   "outputs": [
    {
     "data": {
      "text/plain": [
       "0.90625"
      ]
     },
     "execution_count": 59,
     "metadata": {},
     "output_type": "execute_result"
    }
   ],
   "source": [
    "from sklearn.metrics import precision_score, recall_score\n",
    "precision_score(y_test,y_pred)"
   ]
  },
  {
   "cell_type": "code",
   "execution_count": 60,
   "metadata": {},
   "outputs": [
    {
     "data": {
      "text/plain": [
       "0.6904761904761905"
      ]
     },
     "execution_count": 60,
     "metadata": {},
     "output_type": "execute_result"
    }
   ],
   "source": [
    "recall_score(y_test,y_pred)"
   ]
  },
  {
   "cell_type": "code",
   "execution_count": null,
   "metadata": {},
   "outputs": [],
   "source": []
  }
 ],
 "metadata": {
  "interpreter": {
   "hash": "2fdd448929644f1ca28b9a872721f8c7cff3c7e293f5195476d064977c76123f"
  },
  "kernelspec": {
   "display_name": "Python 3.8.5 ('base')",
   "language": "python",
   "name": "python3"
  },
  "language_info": {
   "codemirror_mode": {
    "name": "ipython",
    "version": 3
   },
   "file_extension": ".py",
   "mimetype": "text/x-python",
   "name": "python",
   "nbconvert_exporter": "python",
   "pygments_lexer": "ipython3",
   "version": "3.8.5"
  },
  "orig_nbformat": 4
 },
 "nbformat": 4,
 "nbformat_minor": 2
}
